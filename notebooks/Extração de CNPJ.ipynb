{
 "cells": [
  {
   "cell_type": "markdown",
   "metadata": {},
   "source": [
    "# Extração de CNPJ"
   ]
  },
  {
   "cell_type": "markdown",
   "metadata": {},
   "source": [
    "### Importações padrão para o projeto"
   ]
  },
  {
   "cell_type": "code",
   "execution_count": 1,
   "metadata": {},
   "outputs": [],
   "source": [
    "import cv2\n",
    "import numpy as np\n",
    "import matplotlib.pyplot as plt\n",
    "import os\n",
    "import pytesseract\n",
    "import re\n",
    "import seaborn as sns"
   ]
  },
  {
   "cell_type": "markdown",
   "metadata": {},
   "source": [
    "### Método para acessar o caminho das imagens do dataset"
   ]
  },
  {
   "cell_type": "markdown",
   "metadata": {},
   "source": [
    "* Utilize este método para acessar o caminho das imagens do dataset em ordem alfabética.\n",
    "\n",
    "* Deve ser utilizado para percorrer a quantidade desejada das imagens disponíveis na pasta **notasFiscais**.\n",
    "\n",
    "* Caso não passe parâmetros, serão retornados todos os caminhos das imagens nesta pasta.\n",
    "\n",
    "* Para realizar os experimentos utilize o parâmetro quantity com o valor 30, a não ser que esteja muito lento para processar essa quantidade.\n",
    "    * Caso seja necessário utilizar mais imagens para os experimentos, deixe claro quantos foram usadas e o motivo. "
   ]
  },
  {
   "cell_type": "code",
   "execution_count": 4,
   "metadata": {},
   "outputs": [],
   "source": [
    "def getImages(quantity=None):\n",
    "    if quantity is None:\n",
    "        return sorted([os.path.abspath('..') +'/notasFiscais/' + x for x in os.listdir('../notasFiscais') if x.endswith('.jpg')])\n",
    "    else:\n",
    "        return sorted([os.path.abspath('..') +'/notasFiscais/' + x for x in os.listdir('../notasFiscais') if x.endswith('.jpg')])[:quantity]"
   ]
  },
  {
   "cell_type": "markdown",
   "metadata": {},
   "source": [
    "* Exemplo de uso retornando o caminho somente de uma imagem;"
   ]
  },
  {
   "cell_type": "code",
   "execution_count": 5,
   "metadata": {},
   "outputs": [
    {
     "name": "stdout",
     "output_type": "stream",
     "text": [
      "['/home/ronyell/Documents/VISAO/visao-computacional/notasFiscais/001.jpg']\n"
     ]
    }
   ],
   "source": [
    "print(getImages(1))"
   ]
  },
  {
   "cell_type": "markdown",
   "metadata": {},
   "source": [
    "### Método para extrair CNPJ da Imagem através do Pytesseract"
   ]
  },
  {
   "cell_type": "markdown",
   "metadata": {},
   "source": [
    "* Utilize este método para extrair o CNPJ da imagem passada para ele como parâmetro;\n",
    "\n",
    "* Caso um ou mais CNPJs sejam encontrados será retornado um Array de Strings, onde cada item do array corresponde a um CNPJ identificado;"
   ]
  },
  {
   "cell_type": "code",
   "execution_count": 6,
   "metadata": {},
   "outputs": [],
   "source": [
    "def extractCNPJ(image):\n",
    "    CNPJs = []\n",
    "    \n",
    "    # Criar regex correspondente ao modelo de CNPJ brasileiro.\n",
    "    regexCNPJ = re.compile('\\d{2}\\.\\d{3}\\.\\d{3}\\/\\d{4}-\\d{2}')\n",
    "\n",
    "    # O Pytesseract utiliza o OCR - Reconhecimento Ótico de Caracteres para extrair os textos da Imagem.\n",
    "    text = pytesseract.image_to_string(image, lang='por')\n",
    "\n",
    "    # Percorre o texto por linhas tentando encontrar algum CNPJ válido que case com a Regex.\n",
    "    for line in iter(text.splitlines()):\n",
    "        CNPJs += regexCNPJ.findall(line)\n",
    "\n",
    "    # Caso esteja vazia não foi encontrado nenhum CNPJ.\n",
    "    return CNPJs"
   ]
  },
  {
   "cell_type": "markdown",
   "metadata": {},
   "source": [
    "* Exemplo de uso da extração de CNPJ;"
   ]
  },
  {
   "cell_type": "code",
   "execution_count": 7,
   "metadata": {},
   "outputs": [
    {
     "name": "stdout",
     "output_type": "stream",
     "text": [
      "Imagem: /home/ronyell/Documents/VISAO/visao-computacional/notasFiscais/002.jpg\n",
      "Foram encontrados: 2 CNPJs\n",
      "['07.512.719/0001-50', '02.130.245/0001-69']\n"
     ]
    }
   ],
   "source": [
    "# Primeira imagem dos 50 caminhos selecionados do dataset.\n",
    "print(\"Imagem: {}\".format(getImages(50)[1]))\n",
    "\n",
    "image = cv2.imread(getImages(50)[1])\n",
    "\n",
    "# Extraindo CNPJs dessa imagem.\n",
    "CNPJs = extractCNPJ(image)\n",
    "\n",
    "# Verificando extração.\n",
    "if CNPJs:\n",
    "    print(\"Foram encontrados: {} CNPJs\".format(len(CNPJs)))\n",
    "    print(CNPJs)\n",
    "else:\n",
    "    print(\"Não foram encontrados CNPJs nesta imagem.\")"
   ]
  },
  {
   "cell_type": "markdown",
   "metadata": {},
   "source": [
    "# Experimentos"
   ]
  },
  {
   "cell_type": "markdown",
   "metadata": {},
   "source": [
    "### Extração de CNPJ das Imagens Naturais"
   ]
  },
  {
   "cell_type": "markdown",
   "metadata": {},
   "source": [
    "* Serão utilizadas as imagens sem filtros para o primeiro experimento de extração dos CNPJs "
   ]
  },
  {
   "cell_type": "code",
   "execution_count": 11,
   "metadata": {},
   "outputs": [
    {
     "name": "stdout",
     "output_type": "stream",
     "text": [
      "--------------------------------------------------------------------------------\n",
      "Imagem: /home/ronyell/Documents/VISAO/visao-computacional/notasFiscais/001.jpg\n",
      "Não foram encontrados CNPJs nesta imagem.\n",
      "--------------------------------------------------------------------------------\n",
      "Imagem: /home/ronyell/Documents/VISAO/visao-computacional/notasFiscais/002.jpg\n",
      "Foram encontrados: 2 CNPJs\n",
      "['07.512.719/0001-50', '02.130.245/0001-69']\n",
      "--------------------------------------------------------------------------------\n",
      "Imagem: /home/ronyell/Documents/VISAO/visao-computacional/notasFiscais/0036 correios.jpg\n",
      "Não foram encontrados CNPJs nesta imagem.\n",
      "--------------------------------------------------------------------------------\n",
      "Imagem: /home/ronyell/Documents/VISAO/visao-computacional/notasFiscais/021 correios.jpg\n",
      "Não foram encontrados CNPJs nesta imagem.\n",
      "--------------------------------------------------------------------------------\n",
      "Imagem: /home/ronyell/Documents/VISAO/visao-computacional/notasFiscais/024 correios.jpg\n",
      "Não foram encontrados CNPJs nesta imagem.\n",
      "--------------------------------------------------------------------------------\n",
      "Imagem: /home/ronyell/Documents/VISAO/visao-computacional/notasFiscais/02_01Marco_HotelRJMarcello.jpg\n",
      "Não foram encontrados CNPJs nesta imagem.\n",
      "--------------------------------------------------------------------------------\n",
      "Imagem: /home/ronyell/Documents/VISAO/visao-computacional/notasFiscais/02_09marcoNotaFabricio.jpg\n",
      "Não foram encontrados CNPJs nesta imagem.\n",
      "--------------------------------------------------------------------------------\n",
      "Imagem: /home/ronyell/Documents/VISAO/visao-computacional/notasFiscais/02_17fevereiro_almocoCampoLimpo.jpg\n",
      "Não foram encontrados CNPJs nesta imagem.\n",
      "--------------------------------------------------------------------------------\n",
      "Imagem: /home/ronyell/Documents/VISAO/visao-computacional/notasFiscais/02_17fevereiro_combustivel_SPsantos.jpg\n",
      "Foram encontrados: 1 CNPJs\n",
      "['43.627.470/0001-92']\n",
      "--------------------------------------------------------------------------------\n",
      "Imagem: /home/ronyell/Documents/VISAO/visao-computacional/notasFiscais/02_28fevereiro_combustivel_SPrio.jpg\n",
      "Não foram encontrados CNPJs nesta imagem.\n",
      "--------------------------------------------------------------------------------\n",
      "Imagem: /home/ronyell/Documents/VISAO/visao-computacional/notasFiscais/02_28fevereiro_combustivel_SPrio2.jpg\n",
      "Não foram encontrados CNPJs nesta imagem.\n",
      "--------------------------------------------------------------------------------\n",
      "Imagem: /home/ronyell/Documents/VISAO/visao-computacional/notasFiscais/02_28fevereiro_lanche_SPrio.jpg\n",
      "Não foram encontrados CNPJs nesta imagem.\n",
      "--------------------------------------------------------------------------------\n",
      "Imagem: /home/ronyell/Documents/VISAO/visao-computacional/notasFiscais/02_29fevereiro_combustivel_ParatySP.jpg\n",
      "Não foram encontrados CNPJs nesta imagem.\n",
      "--------------------------------------------------------------------------------\n",
      "Imagem: /home/ronyell/Documents/VISAO/visao-computacional/notasFiscais/02_29fevereiro_combustivel_rioParaty.jpg\n",
      "Foram encontrados: 1 CNPJs\n",
      "['09.632.463/0001-40']\n",
      "--------------------------------------------------------------------------------\n",
      "Imagem: /home/ronyell/Documents/VISAO/visao-computacional/notasFiscais/02_29fevereiro_refeicao_Paraty.jpg\n",
      "Foram encontrados: 2 CNPJs\n",
      "['13.710.943/0001-50', '04.173.614/0001-26']\n",
      "--------------------------------------------------------------------------------\n",
      "Imagem: /home/ronyell/Documents/VISAO/visao-computacional/notasFiscais/02_29fevereiro_refeicao_ParatySP.jpg\n",
      "Foram encontrados: 2 CNPJs\n",
      "['50.462.340/0001-02', '03.482.359/0001-30']\n",
      "--------------------------------------------------------------------------------\n",
      "Imagem: /home/ronyell/Documents/VISAO/visao-computacional/notasFiscais/02_29fevereiro_refeicao_rio.jpg\n",
      "Não foram encontrados CNPJs nesta imagem.\n",
      "--------------------------------------------------------------------------------\n",
      "Imagem: /home/ronyell/Documents/VISAO/visao-computacional/notasFiscais/03 fev 14 rec 02.jpg\n",
      "Não foram encontrados CNPJs nesta imagem.\n",
      "--------------------------------------------------------------------------------\n",
      "Imagem: /home/ronyell/Documents/VISAO/visao-computacional/notasFiscais/031 correios.jpg\n",
      "Foram encontrados: 1 CNPJs\n",
      "['06.942.198/0001-09']\n",
      "--------------------------------------------------------------------------------\n",
      "Imagem: /home/ronyell/Documents/VISAO/visao-computacional/notasFiscais/034 correios.jpg\n",
      "Não foram encontrados CNPJs nesta imagem.\n",
      "--------------------------------------------------------------------------------\n",
      "Imagem: /home/ronyell/Documents/VISAO/visao-computacional/notasFiscais/038 Correios.jpg\n",
      "Foram encontrados: 1 CNPJs\n",
      "['06.942.198/0001-09']\n",
      "--------------------------------------------------------------------------------\n",
      "Imagem: /home/ronyell/Documents/VISAO/visao-computacional/notasFiscais/03_22marcoMateriaisNario.jpg\n",
      "Não foram encontrados CNPJs nesta imagem.\n",
      "--------------------------------------------------------------------------------\n",
      "Imagem: /home/ronyell/Documents/VISAO/visao-computacional/notasFiscais/03_23marcoMateriaisRodrigo.jpg\n",
      "Não foram encontrados CNPJs nesta imagem.\n",
      "--------------------------------------------------------------------------------\n",
      "Imagem: /home/ronyell/Documents/VISAO/visao-computacional/notasFiscais/03_23marcoMateriaisRodrigo2.jpg\n",
      "Não foram encontrados CNPJs nesta imagem.\n",
      "--------------------------------------------------------------------------------\n",
      "Imagem: /home/ronyell/Documents/VISAO/visao-computacional/notasFiscais/03_23marcoMateriaisRodrigo3.jpg\n",
      "Foram encontrados: 1 CNPJs\n",
      "['00.586.235/0001-07']\n",
      "--------------------------------------------------------------------------------\n",
      "Imagem: /home/ronyell/Documents/VISAO/visao-computacional/notasFiscais/03_27marcoCopiasNario.jpg\n",
      "Foram encontrados: 1 CNPJs\n",
      "['43.444.355/0001-82']\n",
      "--------------------------------------------------------------------------------\n",
      "Imagem: /home/ronyell/Documents/VISAO/visao-computacional/notasFiscais/03_27marcoLMerlinRodrigo.jpg\n",
      "Não foram encontrados CNPJs nesta imagem.\n",
      "--------------------------------------------------------------------------------\n",
      "Imagem: /home/ronyell/Documents/VISAO/visao-computacional/notasFiscais/03_27marcoMateriaisOfRodrigo.jpg\n",
      "Foram encontrados: 1 CNPJs\n",
      "['02.314.041/0003-40']\n",
      "--------------------------------------------------------------------------------\n",
      "Imagem: /home/ronyell/Documents/VISAO/visao-computacional/notasFiscais/03_28marcoGasolinaRodrigo.jpg\n",
      "Não foram encontrados CNPJs nesta imagem.\n",
      "--------------------------------------------------------------------------------\n",
      "Imagem: /home/ronyell/Documents/VISAO/visao-computacional/notasFiscais/03_28marcoRefeicao.jpg\n",
      "Não foram encontrados CNPJs nesta imagem.\n",
      "Foram encontrados CNPJs em 10 imagens.\n"
     ]
    }
   ],
   "source": [
    "imagesPath = getImages(30)\n",
    "quantity_cnpj = 0\n",
    "\n",
    "for path in imagesPath:\n",
    "    print(\"-\"*80)\n",
    "    # Imagem \n",
    "    print(\"Imagem: {}\".format(path))\n",
    "\n",
    "    image = cv2.imread(path)\n",
    "\n",
    "    # Extraindo CNPJs dessa imagem.\n",
    "    CNPJs = extractCNPJ(image)\n",
    "\n",
    "    # Verificando extração.\n",
    "    if CNPJs:\n",
    "        print(\"Foram encontrados: {} CNPJs\".format(len(CNPJs)))\n",
    "        print(CNPJs)\n",
    "        quantity_cnpj += 1\n",
    "    else:\n",
    "        print(\"Não foram encontrados CNPJs nesta imagem.\")\n",
    "print('='*80)    \n",
    "print(\"\\nForam encontrados CNPJs em {} imagens.\\n\".format(quantity_cnpj))"
   ]
  },
  {
   "cell_type": "code",
   "execution_count": null,
   "metadata": {},
   "outputs": [],
   "source": []
  }
 ],
 "metadata": {
  "kernelspec": {
   "display_name": "Python 3",
   "language": "python",
   "name": "python3"
  },
  "language_info": {
   "codemirror_mode": {
    "name": "ipython",
    "version": 3
   },
   "file_extension": ".py",
   "mimetype": "text/x-python",
   "name": "python",
   "nbconvert_exporter": "python",
   "pygments_lexer": "ipython3",
   "version": "3.6.8"
  }
 },
 "nbformat": 4,
 "nbformat_minor": 2
}
