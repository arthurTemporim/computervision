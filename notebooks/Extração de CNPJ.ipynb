{
 "cells": [
  {
   "cell_type": "markdown",
   "metadata": {},
   "source": [
    "# Extração de CNPJ"
   ]
  },
  {
   "cell_type": "markdown",
   "metadata": {},
   "source": [
    "### Importações padrão para o projeto"
   ]
  },
  {
   "cell_type": "code",
   "execution_count": 3,
   "metadata": {},
   "outputs": [],
   "source": [
    "import cv2\n",
    "import numpy as np\n",
    "import matplotlib.pyplot as plt\n",
    "import os\n",
    "import pytesseract\n",
    "import re\n",
    "import seaborn as sns"
   ]
  },
  {
   "cell_type": "markdown",
   "metadata": {},
   "source": [
    "### Método para acessar o caminho das imagens do dataset"
   ]
  },
  {
   "cell_type": "markdown",
   "metadata": {},
   "source": [
    "* Utilize este método para acessar o caminho das imagens do dataset em ordem alfabética.\n",
    "\n",
    "* Deve ser utilizado para percorrer a quantidade desejada das imagens disponíveis na pasta **notasFiscais**.\n",
    "\n",
    "* Caso não passe parâmetros, serão retornados todos os caminhos das imagens nesta pasta.\n",
    "\n",
    "* Para realizar os experimentos utilize o parâmetro quantity com o valor 30, a não ser que esteja muito lento para processar essa quantidade.\n",
    "    * Caso seja necessário utilizar mais imagens para os experimentos, deixe claro quantos foram usadas e o motivo. "
   ]
  },
  {
   "cell_type": "code",
   "execution_count": 40,
   "metadata": {},
   "outputs": [],
   "source": [
    "def getImages(quantity=None):\n",
    "    if quantity is None:\n",
    "        return sorted([os.path.abspath('..') +'/notasFiscais/' + x for x in os.listdir('../notasFiscais') if x.endswith('.jpg')])\n",
    "    else:\n",
    "        return sorted([os.path.abspath('..') +'/notasFiscais/' + x for x in os.listdir('../notasFiscais') if x.endswith('.jpg')])[:quantity]"
   ]
  },
  {
   "cell_type": "markdown",
   "metadata": {},
   "source": [
    "* Exemplo de uso retornando o caminho somente de uma imagem;"
   ]
  },
  {
   "cell_type": "code",
   "execution_count": 41,
   "metadata": {},
   "outputs": [
    {
     "name": "stdout",
     "output_type": "stream",
     "text": [
      "['/home/allan-nobre/CNPJ/visao-computacional/notasFiscais/001.jpg']\n"
     ]
    }
   ],
   "source": [
    "print(getImages(1))"
   ]
  },
  {
   "cell_type": "markdown",
   "metadata": {},
   "source": [
    "### Método para extrair CNPJ da Imagem através do Pytesseract"
   ]
  },
  {
   "cell_type": "markdown",
   "metadata": {},
   "source": [
    "* Utilize este método para extrair o CNPJ da imagem passada para ele como parâmetro;\n",
    "\n",
    "* Caso um ou mais CNPJs sejam encontrados será retornado um Array de Strings, onde cada item do array corresponde a um CNPJ identificado;"
   ]
  },
  {
   "cell_type": "code",
   "execution_count": 57,
   "metadata": {},
   "outputs": [],
   "source": [
    "def extractCNPJ(image):\n",
    "    CNPJs = []\n",
    "    \n",
    "    # Criar regex correspondente ao modelo de CNPJ brasileiro.\n",
    "    regexCNPJ = re.compile('\\d{2}\\.\\d{3}\\.\\d{3}\\/\\d{4}-\\d{2}')\n",
    "\n",
    "    # O Pytesseract utiliza o OCR - Reconhecimento Ótico de Caracteres para extrair os textos da Imagem.\n",
    "    text = pytesseract.image_to_string(image, lang='por')\n",
    "\n",
    "    # Percorre o texto por linhas tentando encontrar algum CNPJ válido que case com a Regex.\n",
    "    for line in iter(text.splitlines()):\n",
    "        CNPJs += regexCNPJ.findall(line)\n",
    "\n",
    "    # Caso esteja vazia não foi encontrado nenhum CNPJ.\n",
    "    return CNPJs"
   ]
  },
  {
   "cell_type": "markdown",
   "metadata": {},
   "source": [
    "* Exemplo de uso da extração de CNPJ;"
   ]
  },
  {
   "cell_type": "code",
   "execution_count": 62,
   "metadata": {},
   "outputs": [
    {
     "name": "stdout",
     "output_type": "stream",
     "text": [
      "Imagem: /home/allan-nobre/CNPJ/visao-computacional/notasFiscais/002.jpg\n",
      "Foram encontrados: 1 CNPJs\n",
      "['07.512.719/0001-50']\n"
     ]
    }
   ],
   "source": [
    "# Primeira imagem dos 50 caminhos selecionados do dataset.\n",
    "print(\"Imagem: {}\".format(getImages(50)[1]))\n",
    "\n",
    "image = cv2.imread(getImages(50)[1])\n",
    "\n",
    "# Extraindo CNPJs dessa imagem.\n",
    "CNPJs = extractCNPJ(image)\n",
    "\n",
    "# Verificando extração.\n",
    "if CNPJs:\n",
    "    print(\"Foram encontrados: {} CNPJs\".format(len(CNPJs)))\n",
    "    print(CNPJs)\n",
    "else:\n",
    "    print(\"Não foram encontrados CNPJs nesta imagem.\")"
   ]
  },
  {
   "cell_type": "markdown",
   "metadata": {},
   "source": [
    "# Experimentos"
   ]
  },
  {
   "cell_type": "markdown",
   "metadata": {},
   "source": [
    "### Extração de CNPJ das Imagens Naturais"
   ]
  },
  {
   "cell_type": "code",
   "execution_count": null,
   "metadata": {},
   "outputs": [],
   "source": []
  }
 ],
 "metadata": {
  "kernelspec": {
   "display_name": "Python 3",
   "language": "python",
   "name": "python3"
  },
  "language_info": {
   "codemirror_mode": {
    "name": "ipython",
    "version": 3
   },
   "file_extension": ".py",
   "mimetype": "text/x-python",
   "name": "python",
   "nbconvert_exporter": "python",
   "pygments_lexer": "ipython3",
   "version": "3.5.2"
  }
 },
 "nbformat": 4,
 "nbformat_minor": 2
}
