{
 "cells": [
  {
   "cell_type": "markdown",
   "metadata": {},
   "source": [
    "# Viabilidade técnica de extração de informação dos Comprovantes PDF "
   ]
  },
  {
   "cell_type": "markdown",
   "metadata": {},
   "source": [
    "## Hipótese"
   ]
  },
  {
   "cell_type": "markdown",
   "metadata": {},
   "source": [
    "A principal hipose é que *Podemos Extrair* o custo e o CFP/CNPJ a partir dos comprovantes submetidos pelos proponentes.\n",
    "\n",
    "O *Resultado Esperado* é que, para cada comprovante submetido, conseguimos extrair o CNPJ/CPF do fornecedor, além do custo empenhado pela nota fiscal\n",
    "\n",
    "*Teremos sucesso quando* conseguirmos extrair tais informações de pelo menos 50% dos comprovantes. "
   ]
  },
  {
   "cell_type": "markdown",
   "metadata": {},
   "source": [
    "## Solução Proposta"
   ]
  },
  {
   "cell_type": "markdown",
   "metadata": {},
   "source": [
    "A solução proposta usa a OCR Tesseract (https://github.com/tesseract-ocr) para a extração de texto a partir de imagens. Para isso a seguinte sequencia de processamento foi necessário:\n",
    "* [ x ] Querbrar os pdf para ter um comprovante por pdf\n",
    "* [x] Converter os arquivos pdf em arquivos de imagem\n",
    "* [x] Fazer o mínimo de processamento de imagem para melhorar a qualidade dos comprovantes\n",
    "* [x] Extrair o texto a partir da imagem, utilizando o Tesseract\n",
    "* [x] Extrair por meio de regex o CNPJ/CPF presente no arquivo texto extraído\n",
    "* [ ] Extrair por meio de regex o valor empenhado na nota fiscal"
   ]
  },
  {
   "cell_type": "markdown",
   "metadata": {},
   "source": [
    "### 1. Converter pdf em arquivo texto"
   ]
  },
  {
   "cell_type": "code",
   "execution_count": null,
   "metadata": {},
   "outputs": [
    {
     "name": "stdout",
     "output_type": "stream",
     "text": [
      "../pdfs/041 correios.jpg\n"
     ]
    }
   ],
   "source": [
    "import argparse\n",
    "import cv2\n",
    "import pytesseract\n",
    "import os\n",
    "import glob\n",
    "from PIL import Image, ImageEnhance, ImageFilter\n",
    "\n",
    "foldernames = sorted(glob.glob('../pdfs/'))\n",
    "len(foldernames)\n",
    "for f in foldernames:\n",
    "    foldersearch= f + \"*.jpg\"\n",
    "    filenames = sorted(glob.glob(foldersearch)) \n",
    "    i = 0\n",
    "    for file in filenames:\n",
    "        print(file)\n",
    "        im = Image.open(file)\n",
    "        im = im.filter(ImageFilter.MedianFilter())\n",
    "        enhancer = ImageEnhance.Contrast(im)\n",
    "        im = enhancer.enhance(2)\n",
    "        im = im.convert('1')\n",
    "        im.save(file)\n",
    "        text = pytesseract.image_to_string(Image.open(file), lang='por')\n",
    "        \n",
    "#         os.remove(file)\n",
    "        print(text)\n",
    "        text_file = open( f+\"%s.txt\" % i , \"w\")\n",
    "        i += 1\n",
    "        text_file.write(text)\n",
    "        text_file.close()"
   ]
  },
  {
   "cell_type": "markdown",
   "metadata": {},
   "source": [
    "### 2. Extrair CNPJ a partir do texto"
   ]
  },
  {
   "cell_type": "code",
   "execution_count": null,
   "metadata": {},
   "outputs": [],
   "source": [
    "import re\n",
    "import argparse\n",
    "import cv2\n",
    "import pytesseract\n",
    "import os\n",
    "import glob\n",
    "from PIL import Image, ImageEnhance, ImageFilter\n",
    "\n",
    "p = re.compile('\\d{2}\\.\\d{3}\\.\\d{3}\\/\\d{4}-\\d{2}')\n",
    "foldernames = sorted(glob.glob('../pdfs/'))\n",
    "print(len(foldernames))\n",
    "i = 0\n",
    "for f in foldernames:\n",
    "    foldersearch= f + \"*.txt\"\n",
    "    filenames = sorted(glob.glob(foldersearch)) \n",
    "    for file in filenames:\n",
    "        text_file = open( file , \"r\")\n",
    "        for line in text_file:\n",
    "            s = p.match(line)\n",
    "            if s:\n",
    "                print(s.group(), i)\n",
    "                i += 1"
   ]
  },
  {
   "cell_type": "markdown",
   "metadata": {},
   "source": [
    "### 3. Extrair Valor empenhado a partir do texto"
   ]
  },
  {
   "cell_type": "markdown",
   "metadata": {},
   "source": [
    "## Resultados e Analise"
   ]
  },
  {
   "cell_type": "markdown",
   "metadata": {},
   "source": [
    "Para um primeiro experimento, conseguimos extrair de forma automatizada somente 30% dos CNPJs dos comprovantes, o que faz com que nao tenhamos atingido nossa meta de sucesso. Logo, há necessidade de evoluir principalmente o algoritmo de processamento de imagem para melhorar a qualidade dos comprovantes"
   ]
  },
  {
   "cell_type": "markdown",
   "metadata": {},
   "source": [
    "## Próximos passos"
   ]
  },
  {
   "cell_type": "markdown",
   "metadata": {},
   "source": [
    "* [] Validar padrões regex nos arquivos pdf\n",
    "* [] extrair preços, a partir de regex\n",
    "* [] melhorar o processamento de imagem (filtros, contraste, orientação do scanner)\n",
    "* [] testar algoritmos de extraçao de texto a partir de arquivos pdf nativos (&& apt-get -y install poppler-utils )\n"
   ]
  },
  {
   "cell_type": "code",
   "execution_count": null,
   "metadata": {},
   "outputs": [],
   "source": []
  }
 ],
 "metadata": {
  "kernelspec": {
   "display_name": "Python 3",
   "language": "python",
   "name": "python3"
  },
  "language_info": {
   "codemirror_mode": {
    "name": "ipython",
    "version": 3
   },
   "file_extension": ".py",
   "mimetype": "text/x-python",
   "name": "python",
   "nbconvert_exporter": "python",
   "pygments_lexer": "ipython3",
   "version": "3.7.1"
  }
 },
 "nbformat": 4,
 "nbformat_minor": 2
}
